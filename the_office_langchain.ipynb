{
 "cells": [
  {
   "cell_type": "code",
   "execution_count": 1,
   "metadata": {},
   "outputs": [],
   "source": [
    "from bs4 import BeautifulSoup\n",
    "import requests\n",
    "import re\n",
    "import time\n",
    "from dotenv import load_dotenv\n",
    "import os"
   ]
  },
  {
   "attachments": {},
   "cell_type": "markdown",
   "metadata": {},
   "source": [
    "## Get scripts of *The Office*"
   ]
  },
  {
   "cell_type": "code",
   "execution_count": 2,
   "metadata": {},
   "outputs": [],
   "source": [
    "load_dotenv()\n",
    "openai_api_key = os.getenv('OPENAI_API_KEY')\n",
    "if openai_api_key is None:\n",
    "    raise Exception('API key not found. Make sure to set it in the .env file.')"
   ]
  },
  {
   "cell_type": "code",
   "execution_count": 3,
   "metadata": {},
   "outputs": [],
   "source": [
    "url = 'https://subslikescript.com/series/The_Office-386676'\n",
    "response = requests.get(url)\n",
    "soup = BeautifulSoup(response.text, 'html.parser')\n",
    "hrefs = []\n",
    "for link in soup.find_all('a'):\n",
    "    href = link.get('href')\n",
    "    hrefs.append(href)"
   ]
  },
  {
   "cell_type": "code",
   "execution_count": 4,
   "metadata": {},
   "outputs": [],
   "source": [
    "paths = [href for href in hrefs if re.match(r\"/series/\", href)]\n",
    "text_content_all = []\n",
    "for path in paths:\n",
    "    try:\n",
    "        script_url = f'https://subslikescript.com/{path}'\n",
    "        script_response = requests.get(script_url)\n",
    "        soup = BeautifulSoup(script_response.text, 'html.parser')\n",
    "        div_content = soup.find('div', class_='full-script')\n",
    "        text_content = div_content.text\n",
    "        text_content_all.append(text_content)\n",
    "        print(f'Finished {path}')\n",
    "        time.sleep(1)\n",
    "    except:\n",
    "        print(f'Failed {path}')"
   ]
  },
  {
   "cell_type": "code",
   "execution_count": 5,
   "metadata": {},
   "outputs": [],
   "source": [
    "import pickle\n",
    "with open('pkl_files/the_office_script.pkl', 'wb') as f:\n",
    "    pickle.dump(text_content_all, f)"
   ]
  },
  {
   "cell_type": "code",
   "execution_count": 6,
   "metadata": {},
   "outputs": [],
   "source": [
    "ep_names = [ re.findall(r'season-\\d+/episode-\\d+-.+', path)[0].replace('/', '_') for path in paths ]\n",
    "for ep_name, text_content in zip(ep_names, text_content_all):\n",
    "    with open(f'data/the_office_scripts/{ep_name}.txt', 'w', encoding='utf-8') as file:\n",
    "        for item in text_content:\n",
    "            file.write(str(item))\n",
    "    print(f'Wrote {ep_name}.txt')"
   ]
  },
  {
   "attachments": {},
   "cell_type": "markdown",
   "metadata": {},
   "source": [
    "## Get QA pairs from *quizbreaker.com*"
   ]
  },
  {
   "cell_type": "code",
   "execution_count": 7,
   "metadata": {},
   "outputs": [],
   "source": [
    "url = 'https://www.quizbreaker.com/the-office-trivia'\n",
    "response = requests.get(url)\n",
    "# Check if the request was successful\n",
    "if response.status_code == 200:\n",
    "    soup = BeautifulSoup(response.text, 'html.parser')\n",
    "    questions = [li.text for li in soup.find_all('li')]\n",
    "    answers = [p.text for p in soup.find_all('p')]\n",
    "else:\n",
    "    print(\"Failed to retrieve the URL.\")"
   ]
  },
  {
   "cell_type": "code",
   "execution_count": 8,
   "metadata": {},
   "outputs": [],
   "source": [
    "answers = [answer for answer in answers if re.match(r'\\bAnswer:', answer)]\n",
    "answers.pop(55) # Remove the answer 55 which does not have a question\n",
    "questions = [question for question in questions if '?' in question or '_' in question]\n",
    "office_qas = list(zip(questions, answers))"
   ]
  },
  {
   "attachments": {},
   "cell_type": "markdown",
   "metadata": {},
   "source": [
    "## Start using Langchain"
   ]
  },
  {
   "attachments": {},
   "cell_type": "markdown",
   "metadata": {},
   "source": [
    "### QA of *The Office*'s plot"
   ]
  },
  {
   "cell_type": "code",
   "execution_count": 31,
   "metadata": {},
   "outputs": [],
   "source": [
    "from langchain.embeddings.openai import OpenAIEmbeddings\n",
    "from langchain.vectorstores import FAISS\n",
    "from langchain.text_splitter import RecursiveCharacterTextSplitter\n",
    "from langchain import OpenAI\n",
    "from langchain.chains import RetrievalQA\n",
    "from langchain.document_loaders import DirectoryLoader\n",
    "import nltk\n",
    "# nltk.download('averaged_perceptron_tagger')\n",
    "\n",
    "# !pip install unstructured\n",
    "# #Other dependencies to install https://python.langchain.com/en/latest/modules/indexes/document_loaders/examples/unstructured_file.html\n",
    "# !pip install python-magic-bin\n",
    "# !pip install chromadb"
   ]
  },
  {
   "cell_type": "code",
   "execution_count": 9,
   "metadata": {},
   "outputs": [],
   "source": [
    "loader = DirectoryLoader('data/the_office_scripts/', glob='*.txt')\n",
    "# documents = loader.load()\n",
    "import pickle\n",
    "with open('pkl_files/the_office_documents.pkl', 'rb') as f:\n",
    "    documents = pickle.load(f)"
   ]
  },
  {
   "cell_type": "code",
   "execution_count": 32,
   "metadata": {},
   "outputs": [
    {
     "data": {
      "text/plain": [
       "183"
      ]
     },
     "execution_count": 32,
     "metadata": {},
     "output_type": "execute_result"
    }
   ],
   "source": [
    "len(documents)"
   ]
  },
  {
   "cell_type": "code",
   "execution_count": 10,
   "metadata": {},
   "outputs": [],
   "source": [
    "text_splitter = RecursiveCharacterTextSplitter(chunk_size=1000, chunk_overlap=0)\n",
    "texts = text_splitter.split_documents(documents)"
   ]
  },
  {
   "cell_type": "code",
   "execution_count": 11,
   "metadata": {},
   "outputs": [],
   "source": [
    "embeddings = OpenAIEmbeddings(openai_api_key=openai_api_key)\n",
    "docsearch = FAISS.from_documents(texts, embeddings)\n",
    "llm = OpenAI(openai_api_key=openai_api_key, temperature=0.7, model=\"text-davinci-003\")\n",
    "qa = RetrievalQA.from_chain_type(llm=llm, chain_type=\"stuff\", retriever=docsearch.as_retriever())"
   ]
  },
  {
   "cell_type": "code",
   "execution_count": 43,
   "metadata": {},
   "outputs": [
    {
     "name": "stdout",
     "output_type": "stream",
     "text": [
      "Question: Mindy Kaling, who played Kelly Kapoor in the sitcom, also served as a writer, director, and _______ on the show. Please answer it based on given texts.\n",
      "Correct Answer: An executive producer.\n",
      "AI Answer:  Producer\n",
      "------------------------------\n",
      "Question: Who are the 3 main members of the Party Planning Committee? Please answer it based on given texts.\n",
      "Correct Answer: Pam, Angela, and Phylis.\n",
      "AI Answer:  Michael, Angela, and Dwight.\n",
      "------------------------------\n",
      "Question: What’s the name of the episode where Michael Scott accidentally burns his foot on the George Foreman Grill? Please answer it based on given texts.\n",
      "Correct Answer: “The Injury”.\n",
      "AI Answer:  I don't know.\n",
      "------------------------------\n",
      "Question: What’s the name of the second episode of the first season? Please answer it based on given texts.\n",
      "Correct Answer: \"Diversity Day\".\n",
      "AI Answer:  I don't know.\n",
      "------------------------------\n",
      "Question: Showrunners didn’t inform the NBC executives that Steve Carell would return for the series finale. So, who read Michael’s (Steve’s) lines during the table read? Please answer it based on given texts.\n",
      "Correct Answer: Creed Bratton.\n",
      "AI Answer:  The other actors in the cast read Michael's lines during the table read.\n",
      "------------------------------\n"
     ]
    }
   ],
   "source": [
    "import random\n",
    "random.seed(42)\n",
    "office_qas_random = random.sample(office_qas, 5)\n",
    "\n",
    "for q, a in office_qas_random:\n",
    "    q = q + 'Please answer it based on given texts.'\n",
    "    ai_answer = qa.run(q)\n",
    "    print(f'Question: {q}')\n",
    "    print(f'Correct Answer: {a.replace(\"Answer: \", \"\")}')\n",
    "    print(f'AI Answer: {ai_answer}')\n",
    "    print('-'*30)"
   ]
  },
  {
   "cell_type": "code",
   "execution_count": 12,
   "metadata": {},
   "outputs": [
    {
     "name": "stdout",
     "output_type": "stream",
     "text": [
      "Question: Mindy Kaling, who played Kelly Kapoor in the sitcom, also served as a writer, director, and _______ on the show.\n",
      "Correct Answer: An executive producer.\n",
      "AI Answer:  producer\n",
      "------------------------------\n",
      "Question: Who are the 3 main members of the Party Planning Committee?\n",
      "Correct Answer: Pam, Angela, and Phylis.\n",
      "AI Answer:  Pam, Karen, and Angela.\n",
      "------------------------------\n",
      "Question: What’s the name of the episode where Michael Scott accidentally burns his foot on the George Foreman Grill?\n",
      "Correct Answer: “The Injury”.\n",
      "AI Answer:  The episode is called \"The Injury\" and it's from Season 2 of The Office.\n",
      "------------------------------\n",
      "Question: What’s the name of the second episode of the first season?\n",
      "Correct Answer: \"Diversity Day\".\n",
      "AI Answer:  The second episode of the first season is called \"Diversity Day\".\n",
      "------------------------------\n",
      "Question: Showrunners didn’t inform the NBC executives that Steve Carell would return for the series finale. So, who read Michael’s (Steve’s) lines during the table read?\n",
      "Correct Answer: Creed Bratton.\n",
      "AI Answer:  The lines were read by John Krasinski.\n",
      "------------------------------\n"
     ]
    }
   ],
   "source": [
    "import random\n",
    "random.seed(42)\n",
    "office_qas_random = random.sample(office_qas, 5)\n",
    "\n",
    "for q, a in office_qas_random:\n",
    "    ai_answer = qa.run(q)\n",
    "    print(f'Question: {q}')\n",
    "    print(f'Correct Answer: {a.replace(\"Answer: \", \"\")}')\n",
    "    print(f'AI Answer: {ai_answer}')\n",
    "    print('-'*30)"
   ]
  },
  {
   "attachments": {},
   "cell_type": "markdown",
   "metadata": {},
   "source": [
    "### QA Chains"
   ]
  },
  {
   "cell_type": "code",
   "execution_count": 21,
   "metadata": {},
   "outputs": [],
   "source": [
    "from langchain.chains import LLMChain\n",
    "from langchain.prompts import PromptTemplate\n",
    "template = \"\"\"Please provide a quote from \"The Office\" by {character}.\"\"\"\n",
    "prompt_template = PromptTemplate(input_variables=[\"character\"], template=template)\n",
    "quote_chain = LLMChain(llm=llm, prompt=prompt_template)"
   ]
  },
  {
   "cell_type": "code",
   "execution_count": 22,
   "metadata": {},
   "outputs": [],
   "source": [
    "template = \"\"\"Please describe the personality of {character}.\"\"\"\n",
    "prompt_template = PromptTemplate(input_variables=[\"character\"], template=template)\n",
    "personalirt_chain = LLMChain(llm=llm, prompt=prompt_template)"
   ]
  },
  {
   "cell_type": "code",
   "execution_count": 23,
   "metadata": {},
   "outputs": [],
   "source": [
    "from langchain.chains import SimpleSequentialChain\n",
    "overall_chain = SimpleSequentialChain(chains=[quote_chain, personalirt_chain], verbose=True)"
   ]
  },
  {
   "cell_type": "code",
   "execution_count": 24,
   "metadata": {},
   "outputs": [
    {
     "name": "stdout",
     "output_type": "stream",
     "text": [
      "\n",
      "\n",
      "\u001b[1m> Entering new SimpleSequentialChain chain...\u001b[0m\n",
      "\u001b[36;1m\u001b[1;3m\n",
      "\n",
      "\"Would I rather be feared or loved? Easy. Both. I want people to be afraid of how much they love me.\"\u001b[0m\n",
      "\u001b[33;1m\u001b[1;3m\n",
      "\n",
      "This person has a confident personality. They are ambitious and have a strong sense of self-worth. They want to be respected and admired by others, and they are not afraid to be demanding in order to achieve that. They are determined to make a positive impression on those around them and use whatever means necessary to do so. They are willing to take risks in order to achieve their goals and are confident in their abilities.\u001b[0m\n",
      "\n",
      "\u001b[1m> Finished chain.\u001b[0m\n"
     ]
    }
   ],
   "source": [
    "character_features = overall_chain.run(\"Michael Scott\")"
   ]
  },
  {
   "cell_type": "code",
   "execution_count": 25,
   "metadata": {},
   "outputs": [
    {
     "name": "stdout",
     "output_type": "stream",
     "text": [
      "\n",
      "\n",
      "\u001b[1m> Entering new SimpleSequentialChain chain...\u001b[0m\n",
      "\u001b[36;1m\u001b[1;3m\n",
      "\n",
      "\"No, I'm not going to shoot Jim. I'm not going to shoot anybody. That's not funny.\" - Pam Beesly\u001b[0m\n",
      "\u001b[33;1m\u001b[1;3m\n",
      "\n",
      "Pam Beesly is a caring, empathetic, and loyal person. She is a person of strong moral character who will not compromise her beliefs or values. Pam is also very brave and courageous in standing up for what she believes in, even in difficult situations. She is also very kind and compassionate, and is always willing to lend a helping hand to those in need.\u001b[0m\n",
      "\n",
      "\u001b[1m> Finished chain.\u001b[0m\n"
     ]
    }
   ],
   "source": [
    "character_features = overall_chain.run(\"Pam Beesly\")"
   ]
  },
  {
   "cell_type": "code",
   "execution_count": 26,
   "metadata": {},
   "outputs": [
    {
     "name": "stdout",
     "output_type": "stream",
     "text": [
      "\n",
      "\n",
      "\u001b[1m> Entering new SimpleSequentialChain chain...\u001b[0m\n",
      "\u001b[36;1m\u001b[1;3m\n",
      "\n",
      "\"I'm not superstitious, but I am a little stitious.\"\u001b[0m\n",
      "\u001b[33;1m\u001b[1;3m\n",
      "\n",
      "This individual is likely someone who is generally logical and rational, but is also not immune to superstition. They may be the type of person who takes precautions to avoid bad luck, such as not walking under ladders, while at the same time being aware of their own superstitious behavior. They may also be open-minded and willing to consider alternative perspectives.\u001b[0m\n",
      "\n",
      "\u001b[1m> Finished chain.\u001b[0m\n"
     ]
    }
   ],
   "source": [
    "character_features = overall_chain.run(\"Dwight Schrute\")"
   ]
  },
  {
   "cell_type": "code",
   "execution_count": 13,
   "metadata": {},
   "outputs": [],
   "source": [
    "# Run a query\n",
    "# query = \"Who are the members of the party planning committee?\"\n",
    "# qa.run(query)\n",
    "# query = \"What does Kevin like?\"\n",
    "# qa.run(query)\n",
    "# query = \"Who is Pam's husband?\"\n",
    "# qa.run(query)\n",
    "# query = \"Who was Pam engaged to before Jim?\"\n",
    "# qa.run(query)\n",
    "# query = \"What season did Michael leave The Office?\"\n",
    "# qa.run(query)\n",
    "# query = \"What is Erin Hannon's real name?\"\n",
    "# qa.run(query)\n",
    "# query = \"Ryan caused the fire at the office warming up what?\"\n",
    "# qa.run(query)\n",
    "# query = \"What's Pam's favorite flavor of yogurt?\"\n",
    "# qa.run(query)"
   ]
  }
 ],
 "metadata": {
  "kernelspec": {
   "display_name": "Python 3",
   "language": "python",
   "name": "python3"
  },
  "language_info": {
   "codemirror_mode": {
    "name": "ipython",
    "version": 3
   },
   "file_extension": ".py",
   "mimetype": "text/x-python",
   "name": "python",
   "nbconvert_exporter": "python",
   "pygments_lexer": "ipython3",
   "version": "3.9.10"
  },
  "orig_nbformat": 4
 },
 "nbformat": 4,
 "nbformat_minor": 2
}
