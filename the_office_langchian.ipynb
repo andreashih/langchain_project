{
 "cells": [
  {
   "cell_type": "code",
   "execution_count": 1,
   "metadata": {},
   "outputs": [],
   "source": [
    "from bs4 import BeautifulSoup\n",
    "import requests\n",
    "import re\n",
    "import time\n",
    "from dotenv import load_dotenv\n",
    "import os\n",
    "from langchain.embeddings.openai import OpenAIEmbeddings\n",
    "from langchain.vectorstores import FAISS\n",
    "from langchain.text_splitter import RecursiveCharacterTextSplitter\n",
    "from langchain import OpenAI\n",
    "from langchain.chains import RetrievalQA\n",
    "from langchain.document_loaders import DirectoryLoader\n",
    "import nltk\n",
    "# nltk.download('averaged_perceptron_tagger')\n",
    "\n",
    "# !pip install unstructured\n",
    "# #Other dependencies to install https://python.langchain.com/en/latest/modules/indexes/document_loaders/examples/unstructured_file.html\n",
    "# !pip install python-magic-bin\n",
    "# !pip install chromadb"
   ]
  },
  {
   "attachments": {},
   "cell_type": "markdown",
   "metadata": {},
   "source": [
    "## Get scripts of *The Office*"
   ]
  },
  {
   "cell_type": "code",
   "execution_count": 2,
   "metadata": {},
   "outputs": [],
   "source": [
    "load_dotenv()\n",
    "openai_api_key = os.getenv('OPENAI_API_KEY')\n",
    "if openai_api_key is None:\n",
    "    raise Exception('API key not found. Make sure to set it in the .env file.')"
   ]
  },
  {
   "cell_type": "code",
   "execution_count": 3,
   "metadata": {},
   "outputs": [],
   "source": [
    "# url = 'https://subslikescript.com/series/The_Office-386676'\n",
    "# response = requests.get(url)\n",
    "# soup = BeautifulSoup(response.text, 'html.parser')\n",
    "# hrefs = []\n",
    "# for link in soup.find_all('a'):\n",
    "#     href = link.get('href')\n",
    "#     hrefs.append(href)"
   ]
  },
  {
   "cell_type": "code",
   "execution_count": 4,
   "metadata": {},
   "outputs": [],
   "source": [
    "# paths = [href for href in hrefs if re.match(r\"/series/\", href)]\n",
    "# text_content_all = []\n",
    "# for path in paths:\n",
    "#     try:\n",
    "#         script_url = f'https://subslikescript.com/{path}'\n",
    "#         script_response = requests.get(script_url)\n",
    "#         soup = BeautifulSoup(script_response.text, 'html.parser')\n",
    "#         div_content = soup.find('div', class_='full-script')\n",
    "#         text_content = div_content.text\n",
    "#         text_content_all.append(text_content)\n",
    "#         print(f'Finished {path}')\n",
    "#         time.sleep(1)\n",
    "#     except:\n",
    "#         print(f'Failed {path}')"
   ]
  },
  {
   "cell_type": "code",
   "execution_count": 5,
   "metadata": {},
   "outputs": [],
   "source": [
    "# import pickle\n",
    "# with open('pkl_files/the_office_script.pkl', 'wb') as f:\n",
    "#     pickle.dump(text_content_all, f)"
   ]
  },
  {
   "cell_type": "code",
   "execution_count": 6,
   "metadata": {},
   "outputs": [],
   "source": [
    "# ep_names = [ re.findall(r'season-\\d+/episode-\\d+-.+', path)[0].replace('/', '_') for path in paths ]\n",
    "# for ep_name, text_content in zip(ep_names, text_content_all):\n",
    "#     with open(f'data/the_office_scripts/{ep_name}.txt', 'w', encoding='utf-8') as file:\n",
    "#         # Write each item followed by a newline\n",
    "#         for item in text_content:\n",
    "#             file.write(str(item))\n",
    "#     print(f'Wrote {ep_name}.txt')"
   ]
  },
  {
   "attachments": {},
   "cell_type": "markdown",
   "metadata": {},
   "source": [
    "## Get QA pairs from *quizbreaker.com*"
   ]
  },
  {
   "cell_type": "code",
   "execution_count": 7,
   "metadata": {},
   "outputs": [],
   "source": [
    "url = 'https://www.quizbreaker.com/the-office-trivia'\n",
    "response = requests.get(url)\n",
    "# Check if the request was successful\n",
    "if response.status_code == 200:\n",
    "    soup = BeautifulSoup(response.text, 'html.parser')\n",
    "    questions = [li.text for li in soup.find_all('li')]\n",
    "    answers = [p.text for p in soup.find_all('p')]\n",
    "else:\n",
    "    print(\"Failed to retrieve the URL.\")"
   ]
  },
  {
   "cell_type": "code",
   "execution_count": 8,
   "metadata": {},
   "outputs": [],
   "source": [
    "answers = [answer for answer in answers if re.match(r'\\bAnswer:', answer)]\n",
    "answers.pop(55) # Remove the answer 55 which does not have a question\n",
    "questions = [question for question in questions if '?' in question or '_' in question]\n",
    "office_qas = list(zip(questions, answers))"
   ]
  },
  {
   "attachments": {},
   "cell_type": "markdown",
   "metadata": {},
   "source": [
    "## Start using Langchain"
   ]
  },
  {
   "cell_type": "code",
   "execution_count": 9,
   "metadata": {},
   "outputs": [],
   "source": [
    "loader = DirectoryLoader('data/the_office_scripts/', glob='*.txt')\n",
    "#documents = loader.load()\n",
    "import pickle\n",
    "with open('pkl_files/the_office_documents.pkl', 'rb') as f:\n",
    "    documents = pickle.load(f)"
   ]
  },
  {
   "cell_type": "code",
   "execution_count": 10,
   "metadata": {},
   "outputs": [],
   "source": [
    "text_splitter = RecursiveCharacterTextSplitter(chunk_size=1000, chunk_overlap=0)\n",
    "texts = text_splitter.split_documents(documents)"
   ]
  },
  {
   "cell_type": "code",
   "execution_count": 11,
   "metadata": {},
   "outputs": [],
   "source": [
    "embeddings = OpenAIEmbeddings(openai_api_key=openai_api_key)\n",
    "docsearch = FAISS.from_documents(texts, embeddings)\n",
    "llm = OpenAI(openai_api_key=openai_api_key)\n",
    "qa = RetrievalQA.from_chain_type(llm=llm, chain_type=\"stuff\", retriever=docsearch.as_retriever())"
   ]
  },
  {
   "cell_type": "code",
   "execution_count": 14,
   "metadata": {},
   "outputs": [
    {
     "name": "stdout",
     "output_type": "stream",
     "text": [
      "Question: Mindy Kaling, who played Kelly Kapoor in the sitcom, also served as a writer, director, and _______ on the show.\n",
      "Correct Answer: An executive producer.\n",
      "AI Answer:  producer\n",
      "------------------------------\n",
      "Question: Who are the 3 main members of the Party Planning Committee?\n",
      "Correct Answer: Pam, Angela, and Phylis.\n",
      "AI Answer:  The three main members of the Party Planning Committee are Angela, Pam, and Karen.\n",
      "------------------------------\n",
      "Question: What’s the name of the episode where Michael Scott accidentally burns his foot on the George Foreman Grill?\n",
      "Correct Answer: “The Injury”.\n",
      "AI Answer:  The episode is called \"The Injury\" and is from Season 2 of The Office.\n",
      "------------------------------\n",
      "Question: What’s the name of the second episode of the first season?\n",
      "Correct Answer: \"Diversity Day\".\n",
      "AI Answer:  The name of the second episode of the first season of The Office is \"Diversity Day\".\n",
      "------------------------------\n",
      "Question: Showrunners didn’t inform the NBC executives that Steve Carell would return for the series finale. So, who read Michael’s (Steve’s) lines during the table read?\n",
      "Correct Answer: Creed Bratton.\n",
      "AI Answer:  During the table read, Ed Helms (Andy Bernard) read Michael's lines.\n",
      "------------------------------\n"
     ]
    }
   ],
   "source": [
    "import random\n",
    "random.seed(42)\n",
    "office_qas_random = random.sample(office_qas, 5)\n",
    "\n",
    "for q, a in office_qas_random:\n",
    "    ai_answer = qa.run(q)\n",
    "    print(f'Question: {q}')\n",
    "    print(f'Correct Answer: {a.replace(\"Answer: \", \"\")}')\n",
    "    print(f'AI Answer: {ai_answer}')\n",
    "    print('-'*30)"
   ]
  },
  {
   "cell_type": "code",
   "execution_count": 13,
   "metadata": {},
   "outputs": [],
   "source": [
    "# Run a query\n",
    "# query = \"Who are the members of the party planning committee?\"\n",
    "# qa.run(query)\n",
    "# query = \"What does Kevin like?\"\n",
    "# qa.run(query)\n",
    "# query = \"Who is Pam's husband?\"\n",
    "# qa.run(query)\n",
    "# query = \"Who was Pam engaged to before Jim?\"\n",
    "# qa.run(query)\n",
    "# query = \"What season did Michael leave The Office?\"\n",
    "# qa.run(query)\n",
    "# query = \"What is Erin Hannon's real name?\"\n",
    "# qa.run(query)\n",
    "# query = \"Ryan caused the fire at the office warming up what?\"\n",
    "# qa.run(query)\n",
    "# query = \"What's Pam's favorite flavor of yogurt?\"\n",
    "# qa.run(query)"
   ]
  }
 ],
 "metadata": {
  "kernelspec": {
   "display_name": "Python 3",
   "language": "python",
   "name": "python3"
  },
  "language_info": {
   "codemirror_mode": {
    "name": "ipython",
    "version": 3
   },
   "file_extension": ".py",
   "mimetype": "text/x-python",
   "name": "python",
   "nbconvert_exporter": "python",
   "pygments_lexer": "ipython3",
   "version": "3.9.10"
  },
  "orig_nbformat": 4
 },
 "nbformat": 4,
 "nbformat_minor": 2
}
